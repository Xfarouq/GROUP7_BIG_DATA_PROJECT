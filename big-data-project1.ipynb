{
 "cells": [
  {
   "cell_type": "markdown",
   "metadata": {},
   "source": [
    "# Data Ingestion"
   ]
  },
  {
   "cell_type": "code",
   "execution_count": 3,
   "metadata": {
    "_cell_guid": "b1076dfc-b9ad-4769-8c92-a6c4dae69d19",
    "_uuid": "8f2839f25d086af736a60e9eeb907d3b93b6e0e5",
    "execution": {
     "iopub.execute_input": "2025-09-05T13:41:39.167444Z",
     "iopub.status.busy": "2025-09-05T13:41:39.167130Z",
     "iopub.status.idle": "2025-09-05T13:41:42.441710Z",
     "shell.execute_reply": "2025-09-05T13:41:42.440918Z",
     "shell.execute_reply.started": "2025-09-05T13:41:39.167423Z"
    },
    "trusted": true
   },
   "outputs": [
    {
     "name": "stdout",
     "output_type": "stream",
     "text": [
      "VendorID                         float64\n",
      "tpep_pickup_datetime      datetime64[ns]\n",
      "tpep_dropoff_datetime     datetime64[ns]\n",
      "passenger_count                  float64\n",
      "trip_distance                    float64\n",
      "pickup_longitude                 float64\n",
      "pickup_latitude                  float64\n",
      "RatecodeID                       float64\n",
      "store_and_fwd_flag       string[pyarrow]\n",
      "dropoff_longitude                float64\n",
      "dropoff_latitude                 float64\n",
      "payment_type                     float64\n",
      "fare_amount                      float64\n",
      "extra                            float64\n",
      "mta_tax                          float64\n",
      "tip_amount                       float64\n",
      "tolls_amount                     float64\n",
      "improvement_surcharge            float64\n",
      "total_amount                     float64\n",
      "dtype: object\n",
      "   VendorID tpep_pickup_datetime tpep_dropoff_datetime  passenger_count  \\\n",
      "0       2.0           2016-01-01            2016-01-01              2.0   \n",
      "1       2.0           2016-01-01            2016-01-01              5.0   \n",
      "2       2.0           2016-01-01            2016-01-01              1.0   \n",
      "3       2.0           2016-01-01            2016-01-01              1.0   \n",
      "4       2.0           2016-01-01            2016-01-01              3.0   \n",
      "\n",
      "   trip_distance  pickup_longitude  pickup_latitude  RatecodeID  \\\n",
      "0           1.10        -73.990372        40.734695         1.0   \n",
      "1           4.90        -73.980782        40.729912         1.0   \n",
      "2          10.54        -73.984550        40.679565         1.0   \n",
      "3           4.75        -73.993469        40.718990         1.0   \n",
      "4           1.76        -73.960625        40.781330         1.0   \n",
      "\n",
      "  store_and_fwd_flag  dropoff_longitude  dropoff_latitude  payment_type  \\\n",
      "0                  N         -73.981842         40.732407           2.0   \n",
      "1                  N         -73.944473         40.716679           1.0   \n",
      "2                  N         -73.950272         40.788925           1.0   \n",
      "3                  N         -73.962242         40.657333           2.0   \n",
      "4                  N         -73.977264         40.758514           2.0   \n",
      "\n",
      "   fare_amount  extra  mta_tax  tip_amount  tolls_amount  \\\n",
      "0          7.5    0.5      0.5         0.0           0.0   \n",
      "1         18.0    0.5      0.5         0.0           0.0   \n",
      "2         33.0    0.5      0.5         0.0           0.0   \n",
      "3         16.5    0.0      0.5         0.0           0.0   \n",
      "4          8.0    0.0      0.5         0.0           0.0   \n",
      "\n",
      "   improvement_surcharge  total_amount  \n",
      "0                    0.3           8.8  \n",
      "1                    0.3          19.3  \n",
      "2                    0.3          34.3  \n",
      "3                    0.3          17.3  \n",
      "4                    0.3           8.8  \n"
     ]
    }
   ],
   "source": [
    "import dask.dataframe as dd\n",
    "\n",
    "\n",
    "df = dd.read_csv(\n",
    "    \"/kaggle/input/nyc-yellow-taxi-trip-data/yellow_tripdata_2016-*.csv\",\n",
    "    assume_missing=True,\n",
    "    parse_dates=[\"tpep_pickup_datetime\", \"tpep_dropoff_datetime\"]\n",
    ")\n",
    "\n",
    "print(df.dtypes)  \n",
    "print(df.head())   \n"
   ]
  },
  {
   "cell_type": "markdown",
   "metadata": {},
   "source": [
    "# Data Storage"
   ]
  },
  {
   "cell_type": "code",
   "execution_count": 4,
   "metadata": {
    "execution": {
     "iopub.execute_input": "2025-09-05T13:41:48.246587Z",
     "iopub.status.busy": "2025-09-05T13:41:48.246266Z",
     "iopub.status.idle": "2025-09-05T13:43:22.706285Z",
     "shell.execute_reply": "2025-09-05T13:43:22.705732Z",
     "shell.execute_reply.started": "2025-09-05T13:41:48.246563Z"
    },
    "trusted": true
   },
   "outputs": [],
   "source": [
    "df.to_parquet(\n",
    "    \"/kaggle/working/nyc_taxi_raw.parquet\",\n",
    "    engine=\"pyarrow\",\n",
    "    compression=\"snappy\"\n",
    ")"
   ]
  },
  {
   "cell_type": "code",
   "execution_count": 5,
   "metadata": {
    "execution": {
     "iopub.execute_input": "2025-09-05T13:43:27.139407Z",
     "iopub.status.busy": "2025-09-05T13:43:27.139126Z",
     "iopub.status.idle": "2025-09-05T13:44:28.397361Z",
     "shell.execute_reply": "2025-09-05T13:44:28.396547Z",
     "shell.execute_reply.started": "2025-09-05T13:43:27.139387Z"
    },
    "trusted": true
   },
   "outputs": [
    {
     "name": "stdout",
     "output_type": "stream",
     "text": [
      "✅ Zipped parquet saved at: /kaggle/working/nyc_taxi_raw.zip\n"
     ]
    }
   ],
   "source": [
    "import shutil\n",
    "\n",
    "shutil.make_archive(\"/kaggle/working/nyc_taxi_raw\", 'zip', \"/kaggle/working/nyc_taxi_raw.parquet\")\n",
    "\n",
    "print(\"✅ Zipped parquet saved at: /kaggle/working/nyc_taxi_raw.zip\")\n"
   ]
  },
  {
   "cell_type": "code",
   "execution_count": 6,
   "metadata": {
    "execution": {
     "iopub.execute_input": "2025-09-05T13:44:28.398760Z",
     "iopub.status.busy": "2025-09-05T13:44:28.398533Z",
     "iopub.status.idle": "2025-09-05T13:44:28.948269Z",
     "shell.execute_reply": "2025-09-05T13:44:28.947485Z",
     "shell.execute_reply.started": "2025-09-05T13:44:28.398745Z"
    },
    "trusted": true
   },
   "outputs": [
    {
     "name": "stdout",
     "output_type": "stream",
     "text": [
      "(<dask_expr.expr.Scalar: expr=ReadParquetFSSpec(a300617).size() // 19, dtype=int64>, 19)\n",
      "   VendorID tpep_pickup_datetime tpep_dropoff_datetime  passenger_count  \\\n",
      "0       2.0           2016-01-01            2016-01-01              2.0   \n",
      "1       2.0           2016-01-01            2016-01-01              5.0   \n",
      "2       2.0           2016-01-01            2016-01-01              1.0   \n",
      "3       2.0           2016-01-01            2016-01-01              1.0   \n",
      "4       2.0           2016-01-01            2016-01-01              3.0   \n",
      "\n",
      "   trip_distance  pickup_longitude  pickup_latitude  RatecodeID  \\\n",
      "0           1.10        -73.990372        40.734695         1.0   \n",
      "1           4.90        -73.980782        40.729912         1.0   \n",
      "2          10.54        -73.984550        40.679565         1.0   \n",
      "3           4.75        -73.993469        40.718990         1.0   \n",
      "4           1.76        -73.960625        40.781330         1.0   \n",
      "\n",
      "  store_and_fwd_flag  dropoff_longitude  dropoff_latitude  payment_type  \\\n",
      "0                  N         -73.981842         40.732407           2.0   \n",
      "1                  N         -73.944473         40.716679           1.0   \n",
      "2                  N         -73.950272         40.788925           1.0   \n",
      "3                  N         -73.962242         40.657333           2.0   \n",
      "4                  N         -73.977264         40.758514           2.0   \n",
      "\n",
      "   fare_amount  extra  mta_tax  tip_amount  tolls_amount  \\\n",
      "0          7.5    0.5      0.5         0.0           0.0   \n",
      "1         18.0    0.5      0.5         0.0           0.0   \n",
      "2         33.0    0.5      0.5         0.0           0.0   \n",
      "3         16.5    0.0      0.5         0.0           0.0   \n",
      "4          8.0    0.0      0.5         0.0           0.0   \n",
      "\n",
      "   improvement_surcharge  total_amount  \n",
      "0                    0.3           8.8  \n",
      "1                    0.3          19.3  \n",
      "2                    0.3          34.3  \n",
      "3                    0.3          17.3  \n",
      "4                    0.3           8.8  \n"
     ]
    }
   ],
   "source": [
    "import dask.dataframe as dd\n",
    "\n",
    "df = dd.read_parquet(\n",
    "    \"/kaggle/input/nyc-yellow-taxi-raw-parquet-20152016/*.parquet\",\n",
    "    engine=\"pyarrow\"\n",
    ")\n",
    "\n",
    "print(df.shape)\n",
    "print(df.head())\n"
   ]
  },
  {
   "cell_type": "markdown",
   "metadata": {},
   "source": [
    "# Data Processing"
   ]
  },
  {
   "cell_type": "code",
   "execution_count": 7,
   "metadata": {
    "execution": {
     "iopub.execute_input": "2025-09-05T13:44:35.083692Z",
     "iopub.status.busy": "2025-09-05T13:44:35.083391Z",
     "iopub.status.idle": "2025-09-05T13:44:35.089613Z",
     "shell.execute_reply": "2025-09-05T13:44:35.088783Z",
     "shell.execute_reply.started": "2025-09-05T13:44:35.083672Z"
    },
    "trusted": true
   },
   "outputs": [],
   "source": [
    "# Drop irrelevant columns\n",
    "\n",
    "cols_to_drop = [\"VendorID\", \"store_and_fwd_flag\"]\n",
    "df = df.drop(columns=cols_to_drop, errors=\"ignore\")"
   ]
  },
  {
   "cell_type": "code",
   "execution_count": 8,
   "metadata": {
    "execution": {
     "iopub.execute_input": "2025-09-05T13:44:41.917582Z",
     "iopub.status.busy": "2025-09-05T13:44:41.916917Z",
     "iopub.status.idle": "2025-09-05T13:44:41.923855Z",
     "shell.execute_reply": "2025-09-05T13:44:41.922940Z",
     "shell.execute_reply.started": "2025-09-05T13:44:41.917551Z"
    },
    "trusted": true
   },
   "outputs": [],
   "source": [
    "#Handle missing values\n",
    "\n",
    "df = df.dropna(\n",
    "    subset=[\"tpep_pickup_datetime\", \"tpep_dropoff_datetime\", \"fare_amount\", \"trip_distance\"]\n",
    ")"
   ]
  },
  {
   "cell_type": "code",
   "execution_count": 9,
   "metadata": {
    "execution": {
     "iopub.execute_input": "2025-09-05T13:44:44.145860Z",
     "iopub.status.busy": "2025-09-05T13:44:44.145158Z",
     "iopub.status.idle": "2025-09-05T13:44:44.156088Z",
     "shell.execute_reply": "2025-09-05T13:44:44.155185Z",
     "shell.execute_reply.started": "2025-09-05T13:44:44.145837Z"
    },
    "trusted": true
   },
   "outputs": [],
   "source": [
    "#Remove invalid trips\n",
    "\n",
    "df[\"trip_duration\"] = (\n",
    "    df[\"tpep_dropoff_datetime\"] - df[\"tpep_pickup_datetime\"]\n",
    ").dt.total_seconds() / 60"
   ]
  },
  {
   "cell_type": "code",
   "execution_count": 10,
   "metadata": {
    "execution": {
     "iopub.execute_input": "2025-09-05T13:44:46.000079Z",
     "iopub.status.busy": "2025-09-05T13:44:45.999471Z",
     "iopub.status.idle": "2025-09-05T13:44:46.006692Z",
     "shell.execute_reply": "2025-09-05T13:44:46.005898Z",
     "shell.execute_reply.started": "2025-09-05T13:44:46.000054Z"
    },
    "trusted": true
   },
   "outputs": [],
   "source": [
    "# Apply filters\n",
    "df = df[\n",
    "    (df[\"fare_amount\"] > 0) &\n",
    "    (df[\"trip_distance\"] > 0) &\n",
    "    (df[\"trip_duration\"] > 0) &\n",
    "    (df[\"trip_distance\"] < 200)\n",
    "]"
   ]
  },
  {
   "cell_type": "code",
   "execution_count": 11,
   "metadata": {
    "execution": {
     "iopub.execute_input": "2025-09-05T13:44:47.907209Z",
     "iopub.status.busy": "2025-09-05T13:44:47.906955Z",
     "iopub.status.idle": "2025-09-05T13:44:47.913958Z",
     "shell.execute_reply": "2025-09-05T13:44:47.913235Z",
     "shell.execute_reply.started": "2025-09-05T13:44:47.907191Z"
    },
    "trusted": true
   },
   "outputs": [],
   "source": [
    "# Feature engineering\n",
    "\n",
    "# Average speed in mph\n",
    "df[\"avg_speed\"] = df[\"trip_distance\"] / (df[\"trip_duration\"] / 60)"
   ]
  },
  {
   "cell_type": "code",
   "execution_count": 12,
   "metadata": {
    "execution": {
     "iopub.execute_input": "2025-09-05T13:44:49.787462Z",
     "iopub.status.busy": "2025-09-05T13:44:49.787175Z",
     "iopub.status.idle": "2025-09-05T13:44:49.793680Z",
     "shell.execute_reply": "2025-09-05T13:44:49.792792Z",
     "shell.execute_reply.started": "2025-09-05T13:44:49.787441Z"
    },
    "trusted": true
   },
   "outputs": [],
   "source": [
    "# Tip percentage\n",
    "df[\"tip_pct\"] = df[\"tip_amount\"] / df[\"fare_amount\"]"
   ]
  },
  {
   "cell_type": "code",
   "execution_count": 13,
   "metadata": {
    "execution": {
     "iopub.execute_input": "2025-09-05T13:44:51.797027Z",
     "iopub.status.busy": "2025-09-05T13:44:51.796216Z",
     "iopub.status.idle": "2025-09-05T13:44:51.805710Z",
     "shell.execute_reply": "2025-09-05T13:44:51.804952Z",
     "shell.execute_reply.started": "2025-09-05T13:44:51.796998Z"
    },
    "trusted": true
   },
   "outputs": [],
   "source": [
    "# Time-based features\n",
    "df[\"pickup_hour\"] = df[\"tpep_pickup_datetime\"].dt.hour\n",
    "df[\"pickup_day_of_week\"] = df[\"tpep_pickup_datetime\"].dt.dayofweek\n",
    "df[\"is_weekend\"] = df[\"pickup_day_of_week\"] >= 5"
   ]
  },
  {
   "cell_type": "code",
   "execution_count": 14,
   "metadata": {
    "execution": {
     "iopub.execute_input": "2025-09-05T13:45:06.160268Z",
     "iopub.status.busy": "2025-09-05T13:45:06.159971Z",
     "iopub.status.idle": "2025-09-05T13:45:31.810394Z",
     "shell.execute_reply": "2025-09-05T13:45:31.809638Z",
     "shell.execute_reply.started": "2025-09-05T13:45:06.160244Z"
    },
    "trusted": true
   },
   "outputs": [
    {
     "name": "stdout",
     "output_type": "stream",
     "text": [
      "✅ Processing complete. Saved to /kaggle/working/nyc_taxi_processed.parquet\n"
     ]
    }
   ],
   "source": [
    "#Save processed dataset\n",
    "\n",
    "df.to_parquet(\n",
    "    \"/kaggle/working/nyc_taxi_processed.parquet\",\n",
    "    engine=\"pyarrow\",\n",
    "    compression=\"snappy\"\n",
    ")\n",
    "\n",
    "print(\"✅ Processing complete. Saved to /kaggle/working/nyc_taxi_processed.parquet\")"
   ]
  },
  {
   "cell_type": "code",
   "execution_count": 15,
   "metadata": {
    "execution": {
     "iopub.execute_input": "2025-09-05T13:45:31.812190Z",
     "iopub.status.busy": "2025-09-05T13:45:31.811600Z",
     "iopub.status.idle": "2025-09-05T13:46:48.054627Z",
     "shell.execute_reply": "2025-09-05T13:46:48.053851Z",
     "shell.execute_reply.started": "2025-09-05T13:45:31.812168Z"
    },
    "trusted": true
   },
   "outputs": [
    {
     "data": {
      "text/plain": [
       "'/kaggle/working/nyc_taxi_processed.zip'"
      ]
     },
     "execution_count": 15,
     "metadata": {},
     "output_type": "execute_result"
    }
   ],
   "source": [
    "import shutil\n",
    "shutil.make_archive(\"/kaggle/working/nyc_taxi_processed\", 'zip', \"/kaggle/working/nyc_taxi_processed.parquet\")\n"
   ]
  },
  {
   "cell_type": "code",
   "execution_count": 18,
   "metadata": {
    "execution": {
     "iopub.execute_input": "2025-09-05T13:52:49.065106Z",
     "iopub.status.busy": "2025-09-05T13:52:49.064593Z",
     "iopub.status.idle": "2025-09-05T13:52:49.069409Z",
     "shell.execute_reply": "2025-09-05T13:52:49.068743Z",
     "shell.execute_reply.started": "2025-09-05T13:52:49.065082Z"
    },
    "trusted": true
   },
   "outputs": [
    {
     "name": "stdout",
     "output_type": "stream",
     "text": [
      "Index(['tpep_pickup_datetime', 'tpep_dropoff_datetime', 'passenger_count',\n",
      "       'trip_distance', 'pickup_longitude', 'pickup_latitude', 'RatecodeID',\n",
      "       'dropoff_longitude', 'dropoff_latitude', 'payment_type', 'fare_amount',\n",
      "       'extra', 'mta_tax', 'tip_amount', 'tolls_amount',\n",
      "       'improvement_surcharge', 'total_amount', 'trip_duration', 'avg_speed',\n",
      "       'tip_pct', 'pickup_hour', 'pickup_day_of_week', 'is_weekend'],\n",
      "      dtype='object')\n"
     ]
    }
   ],
   "source": [
    "print(df.columns)"
   ]
  },
  {
   "cell_type": "code",
   "execution_count": 19,
   "metadata": {
    "execution": {
     "iopub.execute_input": "2025-09-05T13:52:52.691866Z",
     "iopub.status.busy": "2025-09-05T13:52:52.691556Z",
     "iopub.status.idle": "2025-09-05T13:53:02.813434Z",
     "shell.execute_reply": "2025-09-05T13:53:02.812767Z",
     "shell.execute_reply.started": "2025-09-05T13:52:52.691843Z"
    },
    "trusted": true
   },
   "outputs": [],
   "source": [
    "# Sample small fraction for visualization (avoid memory overload)\n",
    "sample = df.sample(frac=0.001).compute()"
   ]
  },
  {
   "cell_type": "code",
   "execution_count": 20,
   "metadata": {
    "execution": {
     "iopub.execute_input": "2025-09-05T13:53:02.814906Z",
     "iopub.status.busy": "2025-09-05T13:53:02.814638Z",
     "iopub.status.idle": "2025-09-05T13:53:03.238751Z",
     "shell.execute_reply": "2025-09-05T13:53:03.237999Z",
     "shell.execute_reply.started": "2025-09-05T13:53:02.814883Z"
    },
    "trusted": true
   },
   "outputs": [
    {
     "data": {
      "image/png": "[encoded data removed]",
      "text/plain": [
       "<Figure size 800x500 with 1 Axes>"
      ]
     },
     "metadata": {},
     "output_type": "display_data"
    }
   ],
   "source": [
    "import matplotlib.pyplot as plt\n",
    "\n",
    "# Plot 1: Trip distance distribution\n",
    "plt.figure(figsize=(8,5))\n",
    "sample[\"trip_distance\"].hist(bins=50)\n",
    "plt.title(\"Trip Distance Distribution\")\n",
    "plt.xlabel(\"Miles\")\n",
    "plt.ylabel(\"Frequency\")\n",
    "plt.show()"
   ]
  },
  {
   "cell_type": "code",
   "execution_count": 21,
   "metadata": {
    "execution": {
     "iopub.execute_input": "2025-09-05T13:55:34.061659Z",
     "iopub.status.busy": "2025-09-05T13:55:34.061362Z",
     "iopub.status.idle": "2025-09-05T13:55:34.292340Z",
     "shell.execute_reply": "2025-09-05T13:55:34.291502Z",
     "shell.execute_reply.started": "2025-09-05T13:55:34.061640Z"
    },
    "trusted": true
   },
   "outputs": [
    {
     "data": {
      "image/png": "[encoded data removed]",
      "text/plain": [
       "<Figure size 800x500 with 1 Axes>"
      ]
     },
     "metadata": {},
     "output_type": "display_data"
    }
   ],
   "source": [
    "# Plot 2: Fare amount distribution\n",
    "plt.figure(figsize=(8,5))\n",
    "sample[\"fare_amount\"].hist(bins=50)\n",
    "plt.title(\"Fare Amount Distribution\")\n",
    "plt.xlabel(\"Fare ($)\")\n",
    "plt.ylabel(\"Frequency\")\n",
    "plt.show()"
   ]
  },
  {
   "cell_type": "code",
   "execution_count": 22,
   "metadata": {
    "execution": {
     "iopub.execute_input": "2025-09-05T13:55:39.328137Z",
     "iopub.status.busy": "2025-09-05T13:55:39.327442Z",
     "iopub.status.idle": "2025-09-05T13:55:39.542863Z",
     "shell.execute_reply": "2025-09-05T13:55:39.542002Z",
     "shell.execute_reply.started": "2025-09-05T13:55:39.328108Z"
    },
    "trusted": true
   },
   "outputs": [
    {
     "data": {
      "image/png": "[encoded data removed]",
      "text/plain": [
       "<Figure size 800x500 with 1 Axes>"
      ]
     },
     "metadata": {},
     "output_type": "display_data"
    }
   ],
   "source": [
    "# Plot 3: Tip percentage distribution\n",
    "plt.figure(figsize=(8,5))\n",
    "sample[\"tip_pct\"].clip(0,1).hist(bins=50)  # clip to 100% tips\n",
    "plt.title(\"Tip Percentage Distribution\")\n",
    "plt.xlabel(\"Tip %\")\n",
    "plt.ylabel(\"Frequency\")\n",
    "plt.show()"
   ]
  },
  {
   "cell_type": "code",
   "execution_count": 23,
   "metadata": {
    "execution": {
     "iopub.execute_input": "2025-09-05T13:55:57.788505Z",
     "iopub.status.busy": "2025-09-05T13:55:57.787899Z",
     "iopub.status.idle": "2025-09-05T13:55:58.022853Z",
     "shell.execute_reply": "2025-09-05T13:55:58.022014Z",
     "shell.execute_reply.started": "2025-09-05T13:55:57.788479Z"
    },
    "trusted": true
   },
   "outputs": [
    {
     "data": {
      "image/png": "[encoded data removed]",
      "text/plain": [
       "<Figure size 800x500 with 1 Axes>"
      ]
     },
     "metadata": {},
     "output_type": "display_data"
    }
   ],
   "source": [
    "# Plot 4: Trips by pickup hour\n",
    "plt.figure(figsize=(8,5))\n",
    "sample[\"pickup_hour\"].value_counts().sort_index().plot(kind=\"bar\")\n",
    "plt.title(\"Trips by Pickup Hour\")\n",
    "plt.xlabel(\"Hour of Day\")\n",
    "plt.ylabel(\"Number of Trips\")\n",
    "plt.show()"
   ]
  },
  {
   "cell_type": "markdown",
   "metadata": {},
   "source": [
    "# Machine Learning & Analytics"
   ]
  },
  {
   "cell_type": "markdown",
   "metadata": {},
   "source": [
    "## Regression Task (Fare Prediction)"
   ]
  },
  {
   "cell_type": "code",
   "execution_count": 24,
   "metadata": {
    "execution": {
     "iopub.execute_input": "2025-09-05T13:56:15.190233Z",
     "iopub.status.busy": "2025-09-05T13:56:15.189585Z",
     "iopub.status.idle": "2025-09-05T13:56:15.194453Z",
     "shell.execute_reply": "2025-09-05T13:56:15.193656Z",
     "shell.execute_reply.started": "2025-09-05T13:56:15.190208Z"
    },
    "trusted": true
   },
   "outputs": [],
   "source": [
    "import dask.dataframe as dd\n",
    "import pandas as pd\n",
    "from sklearn.model_selection import train_test_split\n",
    "from sklearn.linear_model import LinearRegression\n",
    "from sklearn.ensemble import RandomForestRegressor\n",
    "from sklearn.metrics import mean_squared_error, mean_absolute_error\n",
    "import numpy as np"
   ]
  },
  {
   "cell_type": "code",
   "execution_count": 25,
   "metadata": {
    "execution": {
     "iopub.execute_input": "2025-09-05T13:56:17.567938Z",
     "iopub.status.busy": "2025-09-05T13:56:17.567285Z",
     "iopub.status.idle": "2025-09-05T13:56:17.591623Z",
     "shell.execute_reply": "2025-09-05T13:56:17.590751Z",
     "shell.execute_reply.started": "2025-09-05T13:56:17.567912Z"
    },
    "trusted": true
   },
   "outputs": [
    {
     "name": "stdout",
     "output_type": "stream",
     "text": [
      "✅ Processed data loaded\n",
      "Shape: (<dask_expr.expr.Scalar: expr=ReadParquetFSSpec(46783f2).size() // 23, dtype=int64>, 23)\n",
      "Index(['tpep_pickup_datetime', 'tpep_dropoff_datetime', 'passenger_count',\n",
      "       'trip_distance', 'pickup_longitude', 'pickup_latitude', 'RatecodeID',\n",
      "       'dropoff_longitude', 'dropoff_latitude', 'payment_type', 'fare_amount',\n",
      "       'extra', 'mta_tax', 'tip_amount', 'tolls_amount',\n",
      "       'improvement_surcharge', 'total_amount', 'trip_duration', 'avg_speed',\n",
      "       'tip_pct', 'pickup_hour', 'pickup_day_of_week', 'is_weekend'],\n",
      "      dtype='object')\n"
     ]
    }
   ],
   "source": [
    "# Load processed dataset\n",
    "\n",
    "df = dd.read_parquet(\n",
    "    \"/kaggle/working/nyc_taxi_processed.parquet\",\n",
    "    engine=\"pyarrow\"\n",
    ")\n",
    "\n",
    "print(\"✅ Processed data loaded\")\n",
    "print(\"Shape:\", df.shape)\n",
    "print(df.columns)"
   ]
  },
  {
   "cell_type": "code",
   "execution_count": 26,
   "metadata": {
    "execution": {
     "iopub.execute_input": "2025-09-05T13:56:24.381260Z",
     "iopub.status.busy": "2025-09-05T13:56:24.380934Z",
     "iopub.status.idle": "2025-09-05T13:56:24.386956Z",
     "shell.execute_reply": "2025-09-05T13:56:24.386127Z",
     "shell.execute_reply.started": "2025-09-05T13:56:24.381240Z"
    },
    "trusted": true
   },
   "outputs": [
    {
     "data": {
      "text/plain": [
       "Index(['tpep_pickup_datetime', 'tpep_dropoff_datetime', 'passenger_count',\n",
       "       'trip_distance', 'pickup_longitude', 'pickup_latitude', 'RatecodeID',\n",
       "       'dropoff_longitude', 'dropoff_latitude', 'payment_type', 'fare_amount',\n",
       "       'extra', 'mta_tax', 'tip_amount', 'tolls_amount',\n",
       "       'improvement_surcharge', 'total_amount', 'trip_duration', 'avg_speed',\n",
       "       'tip_pct', 'pickup_hour', 'pickup_day_of_week', 'is_weekend'],\n",
       "      dtype='object')"
      ]
     },
     "execution_count": 26,
     "metadata": {},
     "output_type": "execute_result"
    }
   ],
   "source": [
    "df.columns"
   ]
  },
  {
   "cell_type": "code",
   "execution_count": 27,
   "metadata": {
    "execution": {
     "iopub.execute_input": "2025-09-05T13:56:29.239837Z",
     "iopub.status.busy": "2025-09-05T13:56:29.239225Z",
     "iopub.status.idle": "2025-09-05T13:56:29.245372Z",
     "shell.execute_reply": "2025-09-05T13:56:29.244699Z",
     "shell.execute_reply.started": "2025-09-05T13:56:29.239812Z"
    },
    "trusted": true
   },
   "outputs": [],
   "source": [
    "#Select features & target\n",
    "\n",
    "features = [\n",
    "    \"trip_distance\",\n",
    "    \"passenger_count\",\n",
    "    \"trip_duration\",\n",
    "    \"pickup_hour\",\n",
    "    \"pickup_day_of_week\",\n",
    "    \"is_weekend\"\n",
    "]\n",
    "target = \"fare_amount\"\n",
    "\n",
    "df_ml = df[features + [target]]"
   ]
  },
  {
   "cell_type": "code",
   "execution_count": 28,
   "metadata": {
    "execution": {
     "iopub.execute_input": "2025-09-05T13:57:44.426092Z",
     "iopub.status.busy": "2025-09-05T13:57:44.425448Z",
     "iopub.status.idle": "2025-09-05T13:57:47.252627Z",
     "shell.execute_reply": "2025-09-05T13:57:47.251559Z",
     "shell.execute_reply.started": "2025-09-05T13:57:44.426065Z"
    },
    "trusted": true
   },
   "outputs": [
    {
     "name": "stdout",
     "output_type": "stream",
     "text": [
      "Sample shape: (342796, 7)\n",
      "        trip_distance  passenger_count  trip_duration  pickup_hour  \\\n",
      "121488           2.24              6.0      10.233333           16   \n",
      "266324           6.80              1.0      18.483333           13   \n",
      "411231           9.83              1.0      43.033333           17   \n",
      "405240           8.90              1.0      18.883333           21   \n",
      "109182           2.01              2.0      23.050000           20   \n",
      "\n",
      "        pickup_day_of_week  is_weekend  fare_amount  \n",
      "121488                   5        True          9.5  \n",
      "266324                   1       False         22.0  \n",
      "411231                   5        True         35.0  \n",
      "405240                   1       False         26.0  \n",
      "109182                   4       False         15.0  \n"
     ]
    }
   ],
   "source": [
    "#. Sample data \n",
    "\n",
    "df_sample = df_ml.sample(frac=0.01, random_state=42).compute()  # 1% sample\n",
    "print(\"Sample shape:\", df_sample.shape)\n",
    "print(df_sample.head())\n"
   ]
  },
  {
   "cell_type": "code",
   "execution_count": 29,
   "metadata": {
    "execution": {
     "iopub.execute_input": "2025-09-05T13:58:05.948695Z",
     "iopub.status.busy": "2025-09-05T13:58:05.948376Z",
     "iopub.status.idle": "2025-09-05T13:58:05.988998Z",
     "shell.execute_reply": "2025-09-05T13:58:05.987981Z",
     "shell.execute_reply.started": "2025-09-05T13:58:05.948677Z"
    },
    "trusted": true
   },
   "outputs": [],
   "source": [
    "# Train-test split\n",
    "\n",
    "X = df_sample[features]\n",
    "y = df_sample[target]\n",
    "\n",
    "X_train, X_test, y_train, y_test = train_test_split(\n",
    "    X, y, test_size=0.2, random_state=42\n",
    ")"
   ]
  },
  {
   "cell_type": "code",
   "execution_count": 30,
   "metadata": {
    "execution": {
     "iopub.execute_input": "2025-09-05T13:58:32.329230Z",
     "iopub.status.busy": "2025-09-05T13:58:32.328489Z",
     "iopub.status.idle": "2025-09-05T13:58:32.501449Z",
     "shell.execute_reply": "2025-09-05T13:58:32.500758Z",
     "shell.execute_reply.started": "2025-09-05T13:58:32.329185Z"
    },
    "trusted": true
   },
   "outputs": [],
   "source": [
    "## (a) Linear Regression\n",
    "lr = LinearRegression()\n",
    "lr.fit(X_train, y_train)\n",
    "y_pred_lr = lr.predict(X_test)"
   ]
  },
  {
   "cell_type": "code",
   "execution_count": 66,
   "metadata": {
    "execution": {
     "iopub.execute_input": "2025-09-05T14:54:53.756846Z",
     "iopub.status.busy": "2025-09-05T14:54:53.755938Z",
     "iopub.status.idle": "2025-09-05T14:55:21.624565Z",
     "shell.execute_reply": "2025-09-05T14:55:21.623790Z",
     "shell.execute_reply.started": "2025-09-05T14:54:53.756811Z"
    },
    "trusted": true
   },
   "outputs": [],
   "source": [
    "# (b) Random Forest Regressor\n",
    "rf = RandomForestRegressor(n_estimators=100, random_state=42, n_jobs=-1)\n",
    "rf.fit(X_train, y_train)\n",
    "y_pred_rf = rf.predict(X_test)"
   ]
  },
  {
   "cell_type": "code",
   "execution_count": 32,
   "metadata": {
    "execution": {
     "iopub.execute_input": "2025-09-05T14:03:05.918424Z",
     "iopub.status.busy": "2025-09-05T14:03:05.917780Z",
     "iopub.status.idle": "2025-09-05T14:03:05.922611Z",
     "shell.execute_reply": "2025-09-05T14:03:05.921780Z",
     "shell.execute_reply.started": "2025-09-05T14:03:05.918400Z"
    },
    "trusted": true
   },
   "outputs": [],
   "source": [
    "def eval_model(y_true, y_pred, name):\n",
    "    rmse = np.sqrt(mean_squared_error(y_true, y_pred))\n",
    "    mae = mean_absolute_error(y_true, y_pred)\n",
    "    print(f\"{name} → RMSE: {rmse:.2f}, MAE: {mae:.2f}\")"
   ]
  },
  {
   "cell_type": "code",
   "execution_count": 33,
   "metadata": {
    "execution": {
     "iopub.execute_input": "2025-09-05T14:04:33.919779Z",
     "iopub.status.busy": "2025-09-05T14:04:33.919462Z",
     "iopub.status.idle": "2025-09-05T14:04:33.929055Z",
     "shell.execute_reply": "2025-09-05T14:04:33.928244Z",
     "shell.execute_reply.started": "2025-09-05T14:04:33.919758Z"
    },
    "trusted": true
   },
   "outputs": [
    {
     "name": "stdout",
     "output_type": "stream",
     "text": [
      "Linear Regression → RMSE: 3.18, MAE: 1.67\n",
      "Random Forest Regressor → RMSE: 2.76, MAE: 0.54\n"
     ]
    }
   ],
   "source": [
    "eval_model(y_test, y_pred_lr, \"Linear Regression\")\n",
    "eval_model(y_test, y_pred_rf, \"Random Forest Regressor\")"
   ]
  },
  {
   "cell_type": "markdown",
   "metadata": {},
   "source": [
    "## Classification"
   ]
  },
  {
   "cell_type": "code",
   "execution_count": 34,
   "metadata": {
    "execution": {
     "iopub.execute_input": "2025-09-05T14:09:36.296878Z",
     "iopub.status.busy": "2025-09-05T14:09:36.296072Z",
     "iopub.status.idle": "2025-09-05T14:09:36.300917Z",
     "shell.execute_reply": "2025-09-05T14:09:36.300176Z",
     "shell.execute_reply.started": "2025-09-05T14:09:36.296850Z"
    },
    "trusted": true
   },
   "outputs": [],
   "source": [
    "import dask.dataframe as dd\n",
    "import pandas as pd\n",
    "from sklearn.model_selection import train_test_split\n",
    "from sklearn.linear_model import LogisticRegression\n",
    "from sklearn.ensemble import RandomForestClassifier\n",
    "from sklearn.metrics import accuracy_score, precision_score, recall_score, f1_score, roc_auc_score"
   ]
  },
  {
   "cell_type": "code",
   "execution_count": 35,
   "metadata": {
    "execution": {
     "iopub.execute_input": "2025-09-05T14:09:56.150677Z",
     "iopub.status.busy": "2025-09-05T14:09:56.150403Z",
     "iopub.status.idle": "2025-09-05T14:09:56.168092Z",
     "shell.execute_reply": "2025-09-05T14:09:56.167196Z",
     "shell.execute_reply.started": "2025-09-05T14:09:56.150658Z"
    },
    "trusted": true
   },
   "outputs": [],
   "source": [
    " #Load processed dataset\n",
    "# -----------------------------\n",
    "df = dd.read_parquet(\n",
    "    \"/kaggle/working/nyc_taxi_processed.parquet\",  # or Kaggle dataset path if uploaded\n",
    "    engine=\"pyarrow\"\n",
    ")"
   ]
  },
  {
   "cell_type": "code",
   "execution_count": 36,
   "metadata": {
    "execution": {
     "iopub.execute_input": "2025-09-05T14:10:06.717059Z",
     "iopub.status.busy": "2025-09-05T14:10:06.716706Z",
     "iopub.status.idle": "2025-09-05T14:10:06.726326Z",
     "shell.execute_reply": "2025-09-05T14:10:06.725362Z",
     "shell.execute_reply.started": "2025-09-05T14:10:06.717039Z"
    },
    "trusted": true
   },
   "outputs": [
    {
     "name": "stdout",
     "output_type": "stream",
     "text": [
      "✅ Processed data loaded\n",
      "(<dask_expr.expr.Scalar: expr=ReadParquetFSSpec(46783f2).size() // 23, dtype=int64>, 23)\n"
     ]
    }
   ],
   "source": [
    "print(\"✅ Processed data loaded\")\n",
    "print(df.shape)"
   ]
  },
  {
   "cell_type": "code",
   "execution_count": 37,
   "metadata": {
    "execution": {
     "iopub.execute_input": "2025-09-05T14:10:19.309381Z",
     "iopub.status.busy": "2025-09-05T14:10:19.309080Z",
     "iopub.status.idle": "2025-09-05T14:10:19.315515Z",
     "shell.execute_reply": "2025-09-05T14:10:19.314780Z",
     "shell.execute_reply.started": "2025-09-05T14:10:19.309360Z"
    },
    "trusted": true
   },
   "outputs": [],
   "source": [
    "df[\"is_high_tip\"] = (df[\"tip_pct\"] > 0.2).astype(int)"
   ]
  },
  {
   "cell_type": "code",
   "execution_count": 38,
   "metadata": {
    "execution": {
     "iopub.execute_input": "2025-09-05T14:10:33.268968Z",
     "iopub.status.busy": "2025-09-05T14:10:33.268061Z",
     "iopub.status.idle": "2025-09-05T14:10:33.274088Z",
     "shell.execute_reply": "2025-09-05T14:10:33.273181Z",
     "shell.execute_reply.started": "2025-09-05T14:10:33.268938Z"
    },
    "trusted": true
   },
   "outputs": [],
   "source": [
    "features = [\n",
    "    \"trip_distance\",\n",
    "    \"passenger_count\",\n",
    "    \"trip_duration\",\n",
    "    \"pickup_hour\",\n",
    "    \"pickup_day_of_week\",\n",
    "    \"is_weekend\",\n",
    "    \"payment_type\"\n",
    "]\n",
    "target = \"is_high_tip\"\n",
    "\n",
    "df_clf = df[features + [target]]"
   ]
  },
  {
   "cell_type": "code",
   "execution_count": 39,
   "metadata": {
    "execution": {
     "iopub.execute_input": "2025-09-05T14:10:43.336463Z",
     "iopub.status.busy": "2025-09-05T14:10:43.335686Z",
     "iopub.status.idle": "2025-09-05T14:10:46.770875Z",
     "shell.execute_reply": "2025-09-05T14:10:46.770028Z",
     "shell.execute_reply.started": "2025-09-05T14:10:43.336437Z"
    },
    "trusted": true
   },
   "outputs": [
    {
     "name": "stdout",
     "output_type": "stream",
     "text": [
      "Sample shape: (342794, 8)\n",
      "        trip_distance  passenger_count  trip_duration  pickup_hour  \\\n",
      "169975            0.8              1.0       6.816667           12   \n",
      "281788            4.1              1.0      17.600000            3   \n",
      "366080            2.7              1.0       5.900000            6   \n",
      "301744           10.0              1.0      18.750000            7   \n",
      "327138            2.0              1.0       5.966667            4   \n",
      "\n",
      "        pickup_day_of_week  is_weekend  payment_type  is_high_tip  \n",
      "169975                   5        True           1.0            0  \n",
      "281788                   6        True           2.0            0  \n",
      "366080                   3       False           2.0            0  \n",
      "301744                   6        True           1.0            1  \n",
      "327138                   6        True           1.0            0  \n"
     ]
    }
   ],
   "source": [
    "df_sample = df_clf.sample(frac=0.01, random_state=42).compute()\n",
    "print(\"Sample shape:\", df_sample.shape)\n",
    "print(df_sample.head())"
   ]
  },
  {
   "cell_type": "code",
   "execution_count": 40,
   "metadata": {
    "execution": {
     "iopub.execute_input": "2025-09-05T14:11:32.707927Z",
     "iopub.status.busy": "2025-09-05T14:11:32.707109Z",
     "iopub.status.idle": "2025-09-05T14:11:32.717299Z",
     "shell.execute_reply": "2025-09-05T14:11:32.716396Z",
     "shell.execute_reply.started": "2025-09-05T14:11:32.707901Z"
    },
    "trusted": true
   },
   "outputs": [],
   "source": [
    "#Train-test split\n",
    "# -----------------------------\n",
    "X = df_sample[features]\n",
    "y = df_sample[target]"
   ]
  },
  {
   "cell_type": "code",
   "execution_count": 41,
   "metadata": {
    "execution": {
     "iopub.execute_input": "2025-09-05T14:11:47.538597Z",
     "iopub.status.busy": "2025-09-05T14:11:47.537868Z",
     "iopub.status.idle": "2025-09-05T14:11:47.595504Z",
     "shell.execute_reply": "2025-09-05T14:11:47.594846Z",
     "shell.execute_reply.started": "2025-09-05T14:11:47.538566Z"
    },
    "trusted": true
   },
   "outputs": [],
   "source": [
    "# Handle categorical: convert payment_type to numeric\n",
    "X = pd.get_dummies(X, columns=[\"payment_type\"], drop_first=True)\n",
    "\n",
    "X_train, X_test, y_train, y_test = train_test_split(\n",
    "    X, y, test_size=0.2, random_state=42\n",
    ")\n"
   ]
  },
  {
   "cell_type": "code",
   "execution_count": 42,
   "metadata": {
    "execution": {
     "iopub.execute_input": "2025-09-05T14:12:11.673134Z",
     "iopub.status.busy": "2025-09-05T14:12:11.672556Z",
     "iopub.status.idle": "2025-09-05T14:12:16.331098Z",
     "shell.execute_reply": "2025-09-05T14:12:16.330458Z",
     "shell.execute_reply.started": "2025-09-05T14:12:11.673109Z"
    },
    "trusted": true
   },
   "outputs": [],
   "source": [
    "#Train Models\n",
    "\n",
    "\n",
    "## Logistic Regression (baseline)\n",
    "log_reg = LogisticRegression(max_iter=500)\n",
    "log_reg.fit(X_train, y_train)\n",
    "y_pred_lr = log_reg.predict(X_test)\n",
    "y_prob_lr = log_reg.predict_proba(X_test)[:,1]"
   ]
  },
  {
   "cell_type": "code",
   "execution_count": 43,
   "metadata": {
    "execution": {
     "iopub.execute_input": "2025-09-05T14:12:47.192935Z",
     "iopub.status.busy": "2025-09-05T14:12:47.192620Z",
     "iopub.status.idle": "2025-09-05T14:13:02.555493Z",
     "shell.execute_reply": "2025-09-05T14:13:02.554675Z",
     "shell.execute_reply.started": "2025-09-05T14:12:47.192913Z"
    },
    "trusted": true
   },
   "outputs": [],
   "source": [
    "## Random Forest Classifier\n",
    "rf_clf = RandomForestClassifier(n_estimators=100, random_state=42, n_jobs=-1)\n",
    "rf_clf.fit(X_train, y_train)\n",
    "y_pred_rf = rf_clf.predict(X_test)\n",
    "y_prob_rf = rf_clf.predict_proba(X_test)[:,1]"
   ]
  },
  {
   "cell_type": "code",
   "execution_count": 46,
   "metadata": {
    "execution": {
     "iopub.execute_input": "2025-09-05T14:19:19.903771Z",
     "iopub.status.busy": "2025-09-05T14:19:19.903017Z",
     "iopub.status.idle": "2025-09-05T14:19:19.908136Z",
     "shell.execute_reply": "2025-09-05T14:19:19.907272Z",
     "shell.execute_reply.started": "2025-09-05T14:19:19.903743Z"
    },
    "trusted": true
   },
   "outputs": [],
   "source": [
    "def eval_clf(y_true, y_pred, y_prob, name):\n",
    "    acc = accuracy_score(y_true, y_pred)\n",
    "    prec = precision_score(y_true, y_pred)\n",
    "    rec = recall_score(y_true, y_pred)\n",
    "    f1 = f1_score(y_true, y_pred)\n",
    "    roc = roc_auc_score(y_true, y_prob)\n",
    "    print(f\"{name} → Acc: {acc:.3f}, Prec: {prec:.3f}, Rec: {rec:.3f}, F1: {f1:.3f}, ROC-AUC: {roc:.3f}\")\n"
   ]
  },
  {
   "cell_type": "code",
   "execution_count": 47,
   "metadata": {
    "execution": {
     "iopub.execute_input": "2025-09-05T14:21:33.816674Z",
     "iopub.status.busy": "2025-09-05T14:21:33.816369Z",
     "iopub.status.idle": "2025-09-05T14:21:34.018848Z",
     "shell.execute_reply": "2025-09-05T14:21:34.018167Z",
     "shell.execute_reply.started": "2025-09-05T14:21:33.816651Z"
    },
    "trusted": true
   },
   "outputs": [
    {
     "name": "stdout",
     "output_type": "stream",
     "text": [
      "Logistic Regression → Acc: 0.813, Prec: 0.720, Rec: 0.999, F1: 0.837, ROC-AUC: 0.838\n",
      "Random Forest Classifier → Acc: 0.780, Prec: 0.725, Rec: 0.871, F1: 0.792, ROC-AUC: 0.834\n"
     ]
    }
   ],
   "source": [
    "#Report Results\n",
    "# -----------------------------\n",
    "eval_clf(y_test, y_pred_lr, y_prob_lr, \"Logistic Regression\")\n",
    "eval_clf(y_test, y_pred_rf, y_prob_rf, \"Random Forest Classifier\")"
   ]
  },
  {
   "cell_type": "markdown",
   "metadata": {},
   "source": [
    "### Confusion Matrix & ROC Curve for Classification"
   ]
  },
  {
   "cell_type": "code",
   "execution_count": 48,
   "metadata": {
    "execution": {
     "iopub.execute_input": "2025-09-05T14:27:56.896701Z",
     "iopub.status.busy": "2025-09-05T14:27:56.896386Z",
     "iopub.status.idle": "2025-09-05T14:27:56.900968Z",
     "shell.execute_reply": "2025-09-05T14:27:56.900170Z",
     "shell.execute_reply.started": "2025-09-05T14:27:56.896665Z"
    },
    "trusted": true
   },
   "outputs": [],
   "source": [
    "import matplotlib.pyplot as plt\n",
    "from sklearn.metrics import confusion_matrix, roc_curve"
   ]
  },
  {
   "cell_type": "code",
   "execution_count": 49,
   "metadata": {
    "execution": {
     "iopub.execute_input": "2025-09-05T14:28:13.755379Z",
     "iopub.status.busy": "2025-09-05T14:28:13.755091Z",
     "iopub.status.idle": "2025-09-05T14:28:13.761845Z",
     "shell.execute_reply": "2025-09-05T14:28:13.761007Z",
     "shell.execute_reply.started": "2025-09-05T14:28:13.755358Z"
    },
    "trusted": true
   },
   "outputs": [],
   "source": [
    "#Confusion Matrix Function\n",
    "# -----------------------------\n",
    "def plot_conf_matrix(y_true, y_pred, name):\n",
    "    cm = confusion_matrix(y_true, y_pred)\n",
    "    plt.figure(figsize=(5,4))\n",
    "    plt.imshow(cm, interpolation='nearest', cmap=plt.cm.Blues)\n",
    "    plt.title(f\"{name} - Confusion Matrix\")\n",
    "    plt.colorbar()\n",
    "    classes = [\"Low Tip\", \"High Tip\"]\n",
    "    tick_marks = range(len(classes))\n",
    "    plt.xticks(tick_marks, classes)\n",
    "    plt.yticks(tick_marks, classes)\n",
    "    \n",
    "    # Labels\n",
    "    thresh = cm.max() / 2.\n",
    "    for i in range(cm.shape[0]):\n",
    "        for j in range(cm.shape[1]):\n",
    "            plt.text(j, i, cm[i, j],\n",
    "                     horizontalalignment=\"center\",\n",
    "                     color=\"white\" if cm[i, j] > thresh else \"black\")\n",
    "    plt.ylabel('True Label')\n",
    "    plt.xlabel('Predicted Label')\n",
    "    plt.show()"
   ]
  },
  {
   "cell_type": "code",
   "execution_count": 50,
   "metadata": {
    "execution": {
     "iopub.execute_input": "2025-09-05T14:28:35.764483Z",
     "iopub.status.busy": "2025-09-05T14:28:35.764176Z",
     "iopub.status.idle": "2025-09-05T14:28:35.770178Z",
     "shell.execute_reply": "2025-09-05T14:28:35.769438Z",
     "shell.execute_reply.started": "2025-09-05T14:28:35.764462Z"
    },
    "trusted": true
   },
   "outputs": [],
   "source": [
    "# ROC Curve Function\n",
    "# -----------------------------\n",
    "def plot_roc(y_true, y_prob_lr, y_prob_rf):\n",
    "    fpr_lr, tpr_lr, _ = roc_curve(y_true, y_prob_lr)\n",
    "    fpr_rf, tpr_rf, _ = roc_curve(y_true, y_prob_rf)\n",
    "\n",
    "    plt.figure(figsize=(6,5))\n",
    "    plt.plot(fpr_lr, tpr_lr, label=\"Logistic Regression\")\n",
    "    plt.plot(fpr_rf, tpr_rf, label=\"Random Forest\")\n",
    "    plt.plot([0,1], [0,1], \"k--\")\n",
    "    plt.title(\"ROC Curve Comparison\")\n",
    "    plt.xlabel(\"False Positive Rate\")\n",
    "    plt.ylabel(\"True Positive Rate\")\n",
    "    plt.legend()\n",
    "    plt.show()"
   ]
  },
  {
   "cell_type": "code",
   "execution_count": 52,
   "metadata": {
    "execution": {
     "iopub.execute_input": "2025-09-05T14:29:19.508433Z",
     "iopub.status.busy": "2025-09-05T14:29:19.508139Z",
     "iopub.status.idle": "2025-09-05T14:29:19.675534Z",
     "shell.execute_reply": "2025-09-05T14:29:19.674701Z",
     "shell.execute_reply.started": "2025-09-05T14:29:19.508412Z"
    },
    "trusted": true
   },
   "outputs": [
    {
     "data": {
      "image/png": "[encoded data removed]",
      "text/plain": [
       "<Figure size 500x400 with 2 Axes>"
      ]
     },
     "metadata": {},
     "output_type": "display_data"
    }
   ],
   "source": [
    "plot_conf_matrix(y_test, y_pred_lr, \"Logistic Regression\")"
   ]
  },
  {
   "cell_type": "code",
   "execution_count": 53,
   "metadata": {
    "execution": {
     "iopub.execute_input": "2025-09-05T14:29:30.942308Z",
     "iopub.status.busy": "2025-09-05T14:29:30.942036Z",
     "iopub.status.idle": "2025-09-05T14:29:31.105473Z",
     "shell.execute_reply": "2025-09-05T14:29:31.104793Z",
     "shell.execute_reply.started": "2025-09-05T14:29:30.942286Z"
    },
    "trusted": true
   },
   "outputs": [
    {
     "data": {
      "image/png": "[encoded data removed]",
      "text/plain": [
       "<Figure size 500x400 with 2 Axes>"
      ]
     },
     "metadata": {},
     "output_type": "display_data"
    }
   ],
   "source": [
    "plot_conf_matrix(y_test, y_pred_rf, \"Random Forest Classifier\")"
   ]
  },
  {
   "cell_type": "code",
   "execution_count": 54,
   "metadata": {
    "execution": {
     "iopub.execute_input": "2025-09-05T14:29:31.106843Z",
     "iopub.status.busy": "2025-09-05T14:29:31.106629Z",
     "iopub.status.idle": "2025-09-05T14:29:31.362285Z",
     "shell.execute_reply": "2025-09-05T14:29:31.361488Z",
     "shell.execute_reply.started": "2025-09-05T14:29:31.106828Z"
    },
    "trusted": true
   },
   "outputs": [
    {
     "data": {
      "image/png": "[encoded data removed]",
      "text/plain": [
       "<Figure size 600x500 with 1 Axes>"
      ]
     },
     "metadata": {},
     "output_type": "display_data"
    }
   ],
   "source": [
    "plot_roc(y_test, y_prob_lr, y_prob_rf)"
   ]
  },
  {
   "cell_type": "code",
   "execution_count": 67,
   "metadata": {
    "execution": {
     "iopub.execute_input": "2025-09-05T14:56:52.642196Z",
     "iopub.status.busy": "2025-09-05T14:56:52.641340Z",
     "iopub.status.idle": "2025-09-05T14:56:53.133350Z",
     "shell.execute_reply": "2025-09-05T14:56:53.132616Z",
     "shell.execute_reply.started": "2025-09-05T14:56:52.642159Z"
    },
    "trusted": true
   },
   "outputs": [
    {
     "name": "stdout",
     "output_type": "stream",
     "text": [
      "✅ Saved: best_fare_model.pkl and best_tip_model.pkl\n"
     ]
    }
   ],
   "source": [
    "import joblib\n",
    "\n",
    "# Save best regression model\n",
    "joblib.dump(rf, \"best_fare_model.pkl\")\n",
    "\n",
    "# Save best classification model\n",
    "joblib.dump(log_reg, \"best_tip_model.pkl\")\n",
    "\n",
    "print(\"✅ Saved: best_fare_model.pkl and best_tip_model.pkl\")\n"
   ]
  },
  {
   "cell_type": "code",
   "execution_count": 68,
   "metadata": {
    "execution": {
     "iopub.execute_input": "2025-09-05T14:58:58.916529Z",
     "iopub.status.busy": "2025-09-05T14:58:58.916244Z",
     "iopub.status.idle": "2025-09-05T15:02:35.934041Z",
     "shell.execute_reply": "2025-09-05T15:02:35.933294Z",
     "shell.execute_reply.started": "2025-09-05T14:58:58.916508Z"
    },
    "trusted": true
   },
   "outputs": [
    {
     "name": "stdout",
     "output_type": "stream",
     "text": [
      "✅ Models zipped at /kaggle/working/taxi_best_models.zip\n"
     ]
    }
   ],
   "source": [
    "import shutil\n",
    "\n",
    "# Zip the models for download\n",
    "shutil.make_archive(\"/kaggle/working/taxi_best_models\", 'zip', \"/kaggle/working\")\n",
    "\n",
    "print(\"✅ Models zipped at /kaggle/working/taxi_best_models.zip\")\n"
   ]
  }
 ],
 "metadata": {
  "kaggle": {
   "accelerator": "nvidiaTeslaT4",
   "dataSources": [
    {
     "datasetId": 1777799,
     "sourceId": 2905525,
     "sourceType": "datasetVersion"
    },
    {
     "datasetId": 8208183,
     "sourceId": 12969024,
     "sourceType": "datasetVersion"
    },
    {
     "datasetId": 8209533,
     "sourceId": 12970929,
     "sourceType": "datasetVersion"
    }
   ],
   "dockerImageVersionId": 31090,
   "isGpuEnabled": true,
   "isInternetEnabled": true,
   "language": "python",
   "sourceType": "notebook"
  },
  "kernelspec": {
   "display_name": "Python 3",
   "language": "python",
   "name": "python3"
  },
  "language_info": {
   "codemirror_mode": {
    "name": "ipython",
    "version": 3
   },
   "file_extension": ".py",
   "mimetype": "text/x-python",
   "name": "python",
   "nbconvert_exporter": "python",
   "pygments_lexer": "ipython3",
   "version": "3.13.5"
  }
 },
 "nbformat": 4,
 "nbformat_minor": 4
}
